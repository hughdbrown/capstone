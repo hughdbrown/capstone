{
 "cells": [
  {
   "cell_type": "code",
   "execution_count": 22,
   "metadata": {
    "collapsed": true
   },
   "outputs": [],
   "source": [
    "from __future__ import print_function\n",
    "\n",
    "import pickle\n",
    "from datetime import datetime\n",
    "import glob\n",
    "\n",
    "from pandas import DataFrame, Series\n",
    "import pandas as pd\n",
    "import numpy as np\n",
    "import simplejson\n",
    "import dateutil.parser"
   ]
  },
  {
   "cell_type": "code",
   "execution_count": 23,
   "metadata": {
    "collapsed": false
   },
   "outputs": [],
   "source": [
    "def load_germanwings():\n",
    "    filename = \"../data/germanwings.pkl\"\n",
    "    with open(filename, \"rb\") as f:\n",
    "        return pickle.load(f)\n",
    "\n",
    "german_wings = load_germanwings()"
   ]
  },
  {
   "cell_type": "code",
   "execution_count": 24,
   "metadata": {
    "collapsed": false
   },
   "outputs": [],
   "source": [
    "def loader(filespec):\n",
    "    for filename in glob.glob(filespec):\n",
    "        print(filename)\n",
    "        with open(filename) as f:\n",
    "            for line in f:\n",
    "                d = simplejson.loads(line)\n",
    "                doc = {\n",
    "                    \"short_url\": d[\"g\"],\n",
    "                    \"country\": d.get(\"c\", \"\"),\n",
    "                    \"timestamp\": datetime.utcfromtimestamp(d[\"t\"]),\n",
    "                    \"timezone\": d.get(\"tz\", \"\"),\n",
    "                }\n",
    "                if doc[\"short_url\"] in german_wings:\n",
    "                    yield doc"
   ]
  },
  {
   "cell_type": "code",
   "execution_count": 33,
   "metadata": {
    "collapsed": false
   },
   "outputs": [
    {
     "name": "stdout",
     "output_type": "stream",
     "text": [
      "Loading timezones\n",
      "Loading country codes\n"
     ]
    }
   ],
   "source": [
    "from csv import DictReader, register_dialect\n",
    "\n",
    "def load_remapped_timezones():\n",
    "    print(\"Loading timezones\")\n",
    "    with open(\"../data/timezone-map.csv\") as f:\n",
    "        reader = DictReader(f, fieldnames=[\"timezone\", \"offset1\", \"offset2\"])\n",
    "        return {row[\"timezone\"]: row[\"offset1\"] for row in reader}\n",
    "\n",
    "\n",
    "def load_remapped_country_codes():\n",
    "    print(\"Loading country codes\")\n",
    "    dialect = register_dialect('tabs', delimiter='\\t')\n",
    "    with open(\"../data/country-code-lookup.csv\") as f:\n",
    "        reader = DictReader(f, dialect='tabs')\n",
    "        return {row[\"Code\"]: row[\"Country name\"] for row in reader}\n",
    "\n",
    "\n",
    "remapped_timezone = load_remapped_timezones()\n",
    "remapped_country_code = load_remapped_country_codes()\n"
   ]
  },
  {
   "cell_type": "code",
   "execution_count": 77,
   "metadata": {
    "collapsed": false
   },
   "outputs": [],
   "source": [
    "GERMANWINGS_PICKLE = \"germanwings-hist.pkl\"\n",
    "\n",
    "\n",
    "def save_germanwings():\n",
    "    df = DataFrame(loader(\"../data-capstone/*.log\"))\n",
    "    # http://stackoverflow.com/questions/24216425/adding-a-new-pandas-column-with-mapped-value-from-a-dictionary\n",
    "    df[\"timezone_offset\"] = df.timezone.map(remapped_timezone.get)\n",
    "    df[\"country_name\"] = df.country.map(remapped_country_code.get)\n",
    "    # http://stackoverflow.com/questions/25146121/extracting-just-month-and-year-from-pandas-datetime-column-python\n",
    "    df[\"day\"] = df.timestamp.dt.day\n",
    "    df[\"hour\"] = df.timestamp.dt.hour\n",
    "    df[\"minute\"] = df.timestamp.dt.minute\n",
    "\n",
    "    df.to_pickle(GERMANWINGS_PICKLE)\n",
    "\n",
    "def load_germanwings():\n",
    "    return pd.read_pickle(GERMANWINGS_PICKLE)"
   ]
  },
  {
   "cell_type": "code",
   "execution_count": 78,
   "metadata": {
    "collapsed": false
   },
   "outputs": [],
   "source": [
    "def save_as_loadable_JSON(df, json_filename, column_remapping)\n",
    "    with open(json_filename, \"w\") as f:\n",
    "        df_tmp = df.rename(columns=column_remapping)\n",
    "        objs = [dict(row) for _, row in df_tmp.iterrows()] \n",
    "        f.write(simplejson.dumps(objs))"
   ]
  },
  {
   "cell_type": "code",
   "execution_count": 117,
   "metadata": {
    "collapsed": false
   },
   "outputs": [
    {
     "name": "stdout",
     "output_type": "stream",
     "text": [
      "  country_name  day  hour  minute  count\n",
      "0       Canada   25     0       0    206\n",
      "1       Canada   25     0       1    184\n",
      "2       Canada   25     0       2    221\n",
      "3       Canada   25     0       3    219\n",
      "4       Canada   25     0       4    203\n"
     ]
    }
   ],
   "source": [
    "TIME_COLUMNS = [\"day\", \"hour\", \"minute\"]\n",
    "COUNTRY_DF_COLUMNS = [\"country_name\"] + TIME_COLUMNS\n",
    "TIMEZONE_COLUMNS = [\"timezone_offset\"] + TIME_COLUMNS\n",
    "\n",
    "\n",
    "def country_selection_df(df):\n",
    "    s = pd.Series(df.groupby(COUNTRY_DF_COLUMNS).count().timezone, name='count')\n",
    "    df = DataFrame(s)\n",
    "    df.reset_index(inplace=True)\n",
    "    return df\n",
    "\n",
    "def make_US_CA(df):\n",
    "    tmp = df.query('country == \"US\" or country == \"CA\"')\n",
    "    return country_selection_df(tmp)\n",
    "\n",
    "df_US_CA = make_US_CA(df)\n",
    "save_as_loadable_JSON(df_US_CA, \"urlhist_US_CA.json\", {'country_name': 'key'})"
   ]
  },
  {
   "cell_type": "code",
   "execution_count": 120,
   "metadata": {
    "collapsed": false
   },
   "outputs": [],
   "source": [
    "def make_US_DE_ES_IT(df):\n",
    "    tmp = df.query('country == \"US\" or country == \"DE\" or country == \"ES\" or country == \"IT\" or country == \"FR\"')\n",
    "    return country_selection_df(tmp)\n",
    "\n",
    "df_US_DE_ES_IT = make_US_DE_ES_IT(df)\n",
    "save_as_loadable_JSON(df_US_DE_ES_IT, \"urlhist_US_DE_ES_IT.json\", {'country_name': 'key'})"
   ]
  },
  {
   "cell_type": "code",
   "execution_count": 119,
   "metadata": {
    "collapsed": false
   },
   "outputs": [],
   "source": [
    "def make_timezone_offset(df):\n",
    "    s = pd.Series(df.groupby(TIMEZONE_COLUMNS).count().timezone, name='count')\n",
    "    df_timezone_offset = DataFrame(s)\n",
    "    df_timezone_offset.reset_index(inplace=True)\n",
    "    return df_timezone_offset\n",
    "\n",
    "df_timezone = make_timezone_offset(df)\n",
    "save_as_loadable_JSON(df_timezone, \"urlhist_timezone_offset.json\", {'timezone_offset': 'key'})"
   ]
  },
  {
   "cell_type": "code",
   "execution_count": null,
   "metadata": {
    "collapsed": true
   },
   "outputs": [],
   "source": []
  }
 ],
 "metadata": {
  "kernelspec": {
   "display_name": "Python 2",
   "language": "python",
   "name": "python2"
  },
  "language_info": {
   "codemirror_mode": {
    "name": "ipython",
    "version": 2
   },
   "file_extension": ".py",
   "mimetype": "text/x-python",
   "name": "python",
   "nbconvert_exporter": "python",
   "pygments_lexer": "ipython2",
   "version": "2.7.10"
  }
 },
 "nbformat": 4,
 "nbformat_minor": 0
}
