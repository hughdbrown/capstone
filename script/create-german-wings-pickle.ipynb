{
 "cells": [
  {
   "cell_type": "code",
   "execution_count": 22,
   "metadata": {
    "collapsed": true
   },
   "outputs": [],
   "source": [
    "from __future__ import print_function\n",
    "\n",
    "import pickle\n",
    "from datetime import datetime\n",
    "import glob\n",
    "\n",
    "from pandas import DataFrame, Series\n",
    "import pandas as pd\n",
    "import numpy as np\n",
    "import simplejson\n",
    "import dateutil.parser"
   ]
  },
  {
   "cell_type": "code",
   "execution_count": 23,
   "metadata": {
    "collapsed": false
   },
   "outputs": [],
   "source": [
    "def load_germanwings():\n",
    "    filename = \"../data/germanwings.pkl\"\n",
    "    with open(filename, \"rb\") as f:\n",
    "        return pickle.load(f)\n",
    "\n",
    "german_wings = load_germanwings()"
   ]
  },
  {
   "cell_type": "code",
   "execution_count": 24,
   "metadata": {
    "collapsed": false
   },
   "outputs": [],
   "source": [
    "def loader(filespec):\n",
    "    for filename in glob.glob(filespec):\n",
    "        print(filename)\n",
    "        with open(filename) as f:\n",
    "            for line in f:\n",
    "                d = simplejson.loads(line)\n",
    "                doc = {\n",
    "                    \"short_url\": d[\"g\"],\n",
    "                    \"country\": d.get(\"c\", \"\"),\n",
    "                    \"timestamp\": datetime.utcfromtimestamp(d[\"t\"]),\n",
    "                    \"timezone\": d.get(\"tz\", \"\"),\n",
    "                }\n",
    "                if doc[\"short_url\"] in german_wings:\n",
    "                    yield doc"
   ]
  },
  {
   "cell_type": "code",
   "execution_count": 33,
   "metadata": {
    "collapsed": false
   },
   "outputs": [
    {
     "name": "stdout",
     "output_type": "stream",
     "text": [
      "Loading timezones\n",
      "Loading country codes\n"
     ]
    }
   ],
   "source": [
    "from csv import DictReader, register_dialect\n",
    "\n",
    "def load_remapped_timezones():\n",
    "    print(\"Loading timezones\")\n",
    "    with open(\"../data/timezone-map.csv\") as f:\n",
    "        reader = DictReader(f, fieldnames=[\"timezone\", \"offset1\", \"offset2\"])\n",
    "        return {row[\"timezone\"]: row[\"offset1\"] for row in reader}\n",
    "\n",
    "\n",
    "def load_remapped_country_codes():\n",
    "    print(\"Loading country codes\")\n",
    "    dialect = register_dialect('tabs', delimiter='\\t')\n",
    "    with open(\"../data/country-code-lookup.csv\") as f:\n",
    "        reader = DictReader(f, dialect='tabs')\n",
    "        return {row[\"Code\"]: row[\"Country name\"] for row in reader}\n",
    "\n",
    "\n",
    "remapped_timezone = load_remapped_timezones()\n",
    "remapped_country_code = load_remapped_country_codes()\n"
   ]
  },
  {
   "cell_type": "code",
   "execution_count": 77,
   "metadata": {
    "collapsed": false
   },
   "outputs": [],
   "source": [
    "def save_germanwings():\n",
    "    df = DataFrame(loader(\"../data-capstone/*.log\"))\n",
    "    # http://stackoverflow.com/questions/24216425/adding-a-new-pandas-column-with-mapped-value-from-a-dictionary\n",
    "    df[\"timezone_offset\"] = df.timezone.map(remapped_timezone.get)\n",
    "    df[\"country_name\"] = df.country.map(remapped_country_code.get)\n",
    "    # http://stackoverflow.com/questions/25146121/extracting-just-month-and-year-from-pandas-datetime-column-python\n",
    "    df[\"day\"] = df.timestamp.dt.day\n",
    "    df[\"hour\"] = df.timestamp.dt.hour\n",
    "    df[\"minute\"] = df.timestamp.dt.minute\n",
    "\n",
    "    df.to_pickle(\"germanwings-hist.pkl\")"
   ]
  },
  {
   "cell_type": "code",
   "execution_count": 78,
   "metadata": {
    "collapsed": false
   },
   "outputs": [],
   "source": [
    "# df.to_pickle(\"germanwings-hist.pkl\")"
   ]
  },
  {
   "cell_type": "code",
   "execution_count": 117,
   "metadata": {
    "collapsed": false
   },
   "outputs": [
    {
     "name": "stdout",
     "output_type": "stream",
     "text": [
      "  country_name  day  hour  minute  count\n",
      "0       Canada   25     0       0    206\n",
      "1       Canada   25     0       1    184\n",
      "2       Canada   25     0       2    221\n",
      "3       Canada   25     0       3    219\n",
      "4       Canada   25     0       4    203\n"
     ]
    }
   ],
   "source": [
    "def make_US_CA(df):\n",
    "    tmp = df.query('country == \"US\" or country == \"CA\"')\n",
    "    s = pd.Series(tmp.groupby([\"country_name\", \"day\", \"hour\", \"minute\"]).count().timezone, name='count')\n",
    "    df_US_CA = DataFrame(s)\n",
    "    df_US_CA.reset_index(inplace=True)\n",
    "    with open(\"urlhist_US_CA.json\", \"w\") as f:\n",
    "        df_US_CA.rename(columns={'country_name': 'key'}, inplace=True)\n",
    "        objs = [dict(row) for _, row in df_US_CA.iterrows()] \n",
    "        f.write(simplejson.dumps(objs))\n",
    "\n",
    "make_US_CA(df)"
   ]
  },
  {
   "cell_type": "code",
   "execution_count": 120,
   "metadata": {
    "collapsed": false
   },
   "outputs": [],
   "source": [
    "def make_US_DE_ES_IT(df):\n",
    "    tmp = df.query('country == \"US\" or country == \"DE\" or country == \"ES\" or country == \"IT\" or country == \"FR\"')\n",
    "    s = pd.Series(tmp.groupby([\"country_name\", \"day\", \"hour\", \"minute\"]).count().timezone, name='count')\n",
    "    df_US_DE_ES_IT = DataFrame(s)\n",
    "    df_US_DE_ES_IT.reset_index(inplace=True)\n",
    "    with open(\"urlhist_US_DE_ES_IT.json\", \"w\") as f:\n",
    "        df_US_DE_ES_IT.rename(columns={'country_name': 'key'}, inplace=True)\n",
    "        objs = [dict(row) for _, row in df_US_DE_ES_IT.iterrows()] \n",
    "        f.write(simplejson.dumps(objs))\n",
    "\n",
    "make_US_DE_ES_IT(df)"
   ]
  },
  {
   "cell_type": "code",
   "execution_count": 119,
   "metadata": {
    "collapsed": false
   },
   "outputs": [],
   "source": [
    "def make_timezone_offset(df):\n",
    "    s = pd.Series(df.groupby([\"timezone_offset\", \"day\", \"hour\", \"minute\"]).count().timezone, name='count')\n",
    "    df_timezone_offset = DataFrame(s)\n",
    "    df_timezone_offset.reset_index(inplace=True)\n",
    "    with open(\"urlhist_timezone_offset.json\", \"w\") as f:\n",
    "        df_timezone_offset.rename(columns={'timezone_offset': 'key'}, inplace=True)\n",
    "        objs = [dict(row) for _, row in df_timezone_offset.iterrows()] \n",
    "        f.write(simplejson.dumps(objs))\n",
    "\n",
    "make_timezone_offset(df)"
   ]
  },
  {
   "cell_type": "code",
   "execution_count": null,
   "metadata": {
    "collapsed": true
   },
   "outputs": [],
   "source": []
  }
 ],
 "metadata": {
  "kernelspec": {
   "display_name": "Python 2",
   "language": "python",
   "name": "python2"
  },
  "language_info": {
   "codemirror_mode": {
    "name": "ipython",
    "version": 2
   },
   "file_extension": ".py",
   "mimetype": "text/x-python",
   "name": "python",
   "nbconvert_exporter": "python",
   "pygments_lexer": "ipython2",
   "version": "2.7.10"
  }
 },
 "nbformat": 4,
 "nbformat_minor": 0
}
